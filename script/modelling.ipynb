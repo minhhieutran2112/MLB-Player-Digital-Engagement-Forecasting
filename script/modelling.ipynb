{
 "cells": [
  {
   "cell_type": "code",
   "execution_count": 1,
   "metadata": {},
   "outputs": [],
   "source": [
    "import pandas as pd\n",
    "import torch\n",
    "from torch import nn\n",
    "\n",
    "processedpath='../data/processed_data/'"
   ]
  },
  {
   "cell_type": "code",
   "execution_count": 2,
   "metadata": {},
   "outputs": [],
   "source": [
    "player_engagement_with_info = pd.read_pickle(processedpath+'player_engagement_with_info.pkl')"
   ]
  },
  {
   "cell_type": "code",
   "execution_count": 3,
   "metadata": {},
   "outputs": [],
   "source": [
    "player_engagement_with_info.drop(['date','playerName','rosterTeamName','rosterTeamName','gameTeamName','oppName','awardId'],axis=1,inplace=True)\n",
    "player_engagement_with_info.drop_duplicates(inplace=True)"
   ]
  },
  {
   "cell_type": "code",
   "execution_count": 4,
   "metadata": {},
   "outputs": [],
   "source": [
    "# grouping columns\n",
    "target_cols=[\n",
    "    'target1',\n",
    "    'target2',\n",
    "    'target3',\n",
    "    'target4',\n",
    "    'targetAvg'\n",
    "]\n",
    "\n",
    "index_cols=[\n",
    "    'dailyDataDate',\n",
    "    'engagementMetricsDate',\n",
    "    'year',\n",
    "    'month'\n",
    "]\n",
    "\n",
    "date_info_cols=[\n",
    "    'inSeason',\n",
    "    'seasonPart',\n",
    "    'days_since_preseason_start',\n",
    "    'days_since_preseason_end',\n",
    "    'days_since_postseason_start',\n",
    "    'days_since_postseason_end',\n",
    "    'days_since_regular_season_start_1st',       \n",
    "    'days_since_regular_season_end_2nd',       \n",
    "    'days_since_regular_season_end_1st',       \n",
    "    'days_since_regular_season_start_2nd',       \n",
    "    'days_since_allStar'\n",
    "]\n",
    "\n",
    "player_info_cols=[\n",
    "    'playerId',\n",
    "    'birthCity',\n",
    "    'birthStateProvince',\n",
    "    'birthCountry',\n",
    "    'primaryPositionName',\n",
    "    'age',\n",
    "    'days_since_debut'\n",
    "]\n",
    "\n",
    "roster_cols=[\n",
    "    'rosterStatus',\n",
    "    'rosterTeamId',\n",
    "    'rosterTeamLocation',      \n",
    "    'rosterTeamLeagueId',    \n",
    "    'rosterDivisionId'\n",
    "]\n",
    "\n",
    "players_games_agg_cols=[\n",
    "    'numGames',\n",
    "    'numTeams',       \n",
    "    'runsScored',       \n",
    "    'homeRuns',       \n",
    "    'strikeOuts',       \n",
    "    'baseOnBalls',       \n",
    "    'hits',       \n",
    "    'hitByPitch',       \n",
    "    'atBats',       \n",
    "    'caughtStealing',       \n",
    "    'stolenBases',       \n",
    "    'groundIntoDoublePlay',       \n",
    "    'groundIntoTriplePlay',       \n",
    "    'plateAppearances',       \n",
    "    'totalBases',       \n",
    "    'rbi',       \n",
    "    'leftOnBase',       \n",
    "    'sacBunts',       \n",
    "    'sacFlies',       \n",
    "    'gamesStartedPitching',       \n",
    "    'runsPitching',       \n",
    "    'homeRunsPitching',       \n",
    "    'strikeOutsPitching',       \n",
    "    'baseOnBallsPitching',       \n",
    "    'hitsPitching',       \n",
    "    'inningsPitchedAsFrac',       \n",
    "    'earnedRuns',       \n",
    "    'battersFaced',       \n",
    "    'saves',       \n",
    "    'blownSaves',       \n",
    "    'pitchingGameScore',       \n",
    "    'noHitter'\n",
    "]\n",
    "\n",
    "games_aggg_cols=[\n",
    "    'gameTeamLocation',        \n",
    "    'gameTeamLeagueId',       \n",
    "    'gameDivisionId',       \n",
    "    'gameType',        \n",
    "    'gameTeamId',       \n",
    "    'oppId',       \n",
    "    'rivalry_score',       \n",
    "    'numGamesTeam'       \n",
    "]\n",
    "\n",
    "games_result_cols=[\n",
    "    'winsTeam',       \n",
    "    'lossesTeam',       \n",
    "    'runsScoredTeam',       \n",
    "    'runsAllowedTeam'       \n",
    "]\n",
    "\n",
    "transaction_cols=[\n",
    "    'typeCode',        \n",
    "    'transaction_category'\n",
    "]\n",
    "\n",
    "award_cols=[\n",
    "    'num_awards',       \n",
    "    'max_award_streak',       \n",
    "    'min_award_streak',       \n",
    "    'mean_award_streak',       \n",
    "    'end_streak'       \n",
    "]\n",
    "\n",
    "standing_cols=[\n",
    "    'divisionRankTeam',\n",
    "    'leagueRankTeam',       \n",
    "    'wildCardRankTeam',       \n",
    "    'winPctTeam',       \n",
    "    'winStreakTeam',       \n",
    "    'lossStreakTeam'\n",
    "]"
   ]
  },
  {
   "cell_type": "code",
   "execution_count": 11,
   "metadata": {},
   "outputs": [],
   "source": [
    "for i in os.listdir(processedpath):\r\n",
    "    if '.pkl' in i:\r\n",
    "        globals()[i[:-4]] = pd.read_pickle(processedpath + i)"
   ]
  },
  {
   "cell_type": "code",
   "execution_count": 40,
   "metadata": {},
   "outputs": [],
   "source": [
    "game_schedule=team_games[['dailyDataDate','season','gameType','teamId','oppId','isHomeTeam','rivalry_score']].drop_duplicates()"
   ]
  },
  {
   "cell_type": "code",
   "execution_count": 42,
   "metadata": {},
   "outputs": [
    {
     "data": {
      "text/plain": [
       "['numGames',\n",
       " 'numTeams',\n",
       " 'runsScored',\n",
       " 'homeRuns',\n",
       " 'strikeOuts',\n",
       " 'baseOnBalls',\n",
       " 'hits',\n",
       " 'hitByPitch',\n",
       " 'atBats',\n",
       " 'caughtStealing',\n",
       " 'stolenBases',\n",
       " 'groundIntoDoublePlay',\n",
       " 'groundIntoTriplePlay',\n",
       " 'plateAppearances',\n",
       " 'totalBases',\n",
       " 'rbi',\n",
       " 'leftOnBase',\n",
       " 'sacBunts',\n",
       " 'sacFlies',\n",
       " 'gamesStartedPitching',\n",
       " 'runsPitching',\n",
       " 'homeRunsPitching',\n",
       " 'strikeOutsPitching',\n",
       " 'baseOnBallsPitching',\n",
       " 'hitsPitching',\n",
       " 'inningsPitchedAsFrac',\n",
       " 'earnedRuns',\n",
       " 'battersFaced',\n",
       " 'saves',\n",
       " 'blownSaves',\n",
       " 'pitchingGameScore',\n",
       " 'noHitter']"
      ]
     },
     "execution_count": 42,
     "metadata": {},
     "output_type": "execute_result"
    }
   ],
   "source": [
    "players_games_agg_cols"
   ]
  },
  {
   "cell_type": "code",
   "execution_count": 32,
   "metadata": {},
   "outputs": [
    {
     "data": {
      "text/plain": [
       "0        1\n",
       "1        1\n",
       "2        1\n",
       "3        1\n",
       "4        1\n",
       "        ..\n",
       "12523    1\n",
       "12524    1\n",
       "12525    1\n",
       "12526    1\n",
       "12527    1\n",
       "Name: gameNumber, Length: 12528, dtype: int64"
      ]
     },
     "execution_count": 32,
     "metadata": {},
     "output_type": "execute_result"
    }
   ],
   "source": [
    "team_games.gameNumber\r\n"
   ]
  },
  {
   "cell_type": "markdown",
   "metadata": {},
   "source": [
    "## Organic increase (Trend) vs. From performance"
   ]
  },
  {
   "cell_type": "code",
   "execution_count": 6,
   "metadata": {},
   "outputs": [
    {
     "data": {
      "text/plain": [
       "Index(['dailyDataDate', 'engagementMetricsDate', 'playerId', 'target1',\n",
       "       'target2', 'target3', 'target4', 'targetAvg', 'year', 'month',\n",
       "       'inSeason', 'seasonPart', 'days_since_preseason_start',\n",
       "       'days_since_preseason_end', 'days_since_postseason_start',\n",
       "       'days_since_postseason_end', 'days_since_regular_season_start_1st',\n",
       "       'days_since_regular_season_end_2nd',\n",
       "       'days_since_regular_season_end_1st',\n",
       "       'days_since_regular_season_start_2nd', 'days_since_allStar',\n",
       "       'birthCity', 'birthStateProvince', 'birthCountry',\n",
       "       'primaryPositionName', 'age', 'days_since_debut', 'rosterStatus',\n",
       "       'rosterTeamId', 'rosterTeamLocation', 'rosterTeamLeagueId',\n",
       "       'rosterDivisionId', 'numGames', 'numTeams', 'gameTeamId', 'runsScored',\n",
       "       'homeRuns', 'strikeOuts', 'baseOnBalls', 'hits', 'hitByPitch', 'atBats',\n",
       "       'caughtStealing', 'stolenBases', 'groundIntoDoublePlay',\n",
       "       'groundIntoTriplePlay', 'plateAppearances', 'totalBases', 'rbi',\n",
       "       'leftOnBase', 'sacBunts', 'sacFlies', 'gamesStartedPitching',\n",
       "       'runsPitching', 'homeRunsPitching', 'strikeOutsPitching',\n",
       "       'baseOnBallsPitching', 'hitsPitching', 'inningsPitchedAsFrac',\n",
       "       'earnedRuns', 'battersFaced', 'saves', 'blownSaves',\n",
       "       'pitchingGameScore', 'noHitter', 'gameTeamLocation', 'gameTeamLeagueId',\n",
       "       'gameDivisionId', 'gameType', 'oppId', 'rivalry_score', 'numGamesTeam',\n",
       "       'winsTeam', 'lossesTeam', 'runsScoredTeam', 'runsAllowedTeam',\n",
       "       'typeCode', 'transaction_category', 'num_awards', 'max_award_streak',\n",
       "       'min_award_streak', 'mean_award_streak', 'end_streak',\n",
       "       'divisionRankTeam', 'leagueRankTeam', 'wildCardRankTeam', 'winPctTeam',\n",
       "       'winStreakTeam', 'lossStreakTeam'],\n",
       "      dtype='object')"
      ]
     },
     "execution_count": 6,
     "metadata": {},
     "output_type": "execute_result"
    }
   ],
   "source": [
    "player_engagement_with_info.columns"
   ]
  },
  {
   "cell_type": "code",
   "execution_count": 5,
   "metadata": {},
   "outputs": [
    {
     "name": "stderr",
     "output_type": "stream",
     "text": [
      "ipykernel_launcher:2: SettingWithCopyWarning: \n",
      "A value is trying to be set on a copy of a slice from a DataFrame.\n",
      "Try using .loc[row_indexer,col_indexer] = value instead\n",
      "\n",
      "See the caveats in the documentation: https://pandas.pydata.org/pandas-docs/stable/user_guide/indexing.html#returning-a-view-versus-a-copy\n"
     ]
    }
   ],
   "source": [
    "target_df=player_engagement_with_info[target_cols]\n",
    "target_df['median']=player_engagement_with_info.iloc[:,3:7].median(axis=1)"
   ]
  },
  {
   "cell_type": "code",
   "execution_count": 6,
   "metadata": {},
   "outputs": [
    {
     "data": {
      "text/html": [
       "<div>\n",
       "<style scoped>\n",
       "    .dataframe tbody tr th:only-of-type {\n",
       "        vertical-align: middle;\n",
       "    }\n",
       "\n",
       "    .dataframe tbody tr th {\n",
       "        vertical-align: top;\n",
       "    }\n",
       "\n",
       "    .dataframe thead th {\n",
       "        text-align: right;\n",
       "    }\n",
       "</style>\n",
       "<table border=\"1\" class=\"dataframe\">\n",
       "  <thead>\n",
       "    <tr style=\"text-align: right;\">\n",
       "      <th></th>\n",
       "      <th>target1</th>\n",
       "      <th>target2</th>\n",
       "      <th>target3</th>\n",
       "      <th>target4</th>\n",
       "      <th>targetAvg</th>\n",
       "      <th>median</th>\n",
       "    </tr>\n",
       "  </thead>\n",
       "  <tbody>\n",
       "    <tr>\n",
       "      <th>target1</th>\n",
       "      <td>1.000000</td>\n",
       "      <td>0.708682</td>\n",
       "      <td>0.708998</td>\n",
       "      <td>0.616399</td>\n",
       "      <td>0.742040</td>\n",
       "      <td>0.764480</td>\n",
       "    </tr>\n",
       "    <tr>\n",
       "      <th>target2</th>\n",
       "      <td>0.708682</td>\n",
       "      <td>1.000000</td>\n",
       "      <td>0.655824</td>\n",
       "      <td>0.678315</td>\n",
       "      <td>0.948252</td>\n",
       "      <td>0.858723</td>\n",
       "    </tr>\n",
       "    <tr>\n",
       "      <th>target3</th>\n",
       "      <td>0.708998</td>\n",
       "      <td>0.655824</td>\n",
       "      <td>1.000000</td>\n",
       "      <td>0.596294</td>\n",
       "      <td>0.706980</td>\n",
       "      <td>0.737858</td>\n",
       "    </tr>\n",
       "    <tr>\n",
       "      <th>target4</th>\n",
       "      <td>0.616399</td>\n",
       "      <td>0.678315</td>\n",
       "      <td>0.596294</td>\n",
       "      <td>1.000000</td>\n",
       "      <td>0.819061</td>\n",
       "      <td>0.877892</td>\n",
       "    </tr>\n",
       "    <tr>\n",
       "      <th>targetAvg</th>\n",
       "      <td>0.742040</td>\n",
       "      <td>0.948252</td>\n",
       "      <td>0.706980</td>\n",
       "      <td>0.819061</td>\n",
       "      <td>1.000000</td>\n",
       "      <td>0.908149</td>\n",
       "    </tr>\n",
       "    <tr>\n",
       "      <th>median</th>\n",
       "      <td>0.764480</td>\n",
       "      <td>0.858723</td>\n",
       "      <td>0.737858</td>\n",
       "      <td>0.877892</td>\n",
       "      <td>0.908149</td>\n",
       "      <td>1.000000</td>\n",
       "    </tr>\n",
       "  </tbody>\n",
       "</table>\n",
       "</div>"
      ],
      "text/plain": [
       "            target1   target2   target3   target4  targetAvg    median\n",
       "target1    1.000000  0.708682  0.708998  0.616399   0.742040  0.764480\n",
       "target2    0.708682  1.000000  0.655824  0.678315   0.948252  0.858723\n",
       "target3    0.708998  0.655824  1.000000  0.596294   0.706980  0.737858\n",
       "target4    0.616399  0.678315  0.596294  1.000000   0.819061  0.877892\n",
       "targetAvg  0.742040  0.948252  0.706980  0.819061   1.000000  0.908149\n",
       "median     0.764480  0.858723  0.737858  0.877892   0.908149  1.000000"
      ]
     },
     "execution_count": 6,
     "metadata": {},
     "output_type": "execute_result"
    }
   ],
   "source": [
    "target_df.corr(method='spearman')"
   ]
  },
  {
   "cell_type": "code",
   "execution_count": null,
   "metadata": {},
   "outputs": [],
   "source": []
  }
 ],
 "metadata": {
  "interpreter": {
   "hash": "b3ba2566441a7c06988d0923437866b63cedc61552a5af99d1f4fb67d367b25f"
  },
  "kernelspec": {
   "display_name": "Python 3.6.7 64-bit ('ProgramData': virtualenv)",
   "name": "python3"
  },
  "language_info": {
   "codemirror_mode": {
    "name": "ipython",
    "version": 3
   },
   "file_extension": ".py",
   "mimetype": "text/x-python",
   "name": "python",
   "nbconvert_exporter": "python",
   "pygments_lexer": "ipython3",
   "version": "3.6.7"
  },
  "orig_nbformat": 2
 },
 "nbformat": 4,
 "nbformat_minor": 2
}